{
 "cells": [
  {
   "cell_type": "code",
   "execution_count": null,
   "metadata": {},
   "outputs": [],
   "source": [
    "# !!! \"deque\" is basically a different type of list object. !!!\n",
    "\n",
    "# Returns a new deque object initialized left-to-right (using append()) with data from iterable. If iterable is not specified, the new deque is empty.\n",
    "\n",
    "# Deques are a generalization of stacks and queues. Deques support thread-safe, memory efficient appends and pops from either side of the deque with \n",
    "# approximately the same O(1) performance in either direction.\n",
    "\n",
    "# If \"maxlen\" is not specified or is None, deques may grow to an arbitrary length. Otherwise, the deque is bounded to the specified maximum length.\n",
    "# !!! Once a bounded length deque is full, when new items are added, a corresponding number of items are discarded from the opposite end. !!!\n",
    "# Bounded length deques provide functionality similar to the tail filter in Unix. They are also useful for tracking transactions and \n",
    "# other pools of data where only the most recent activity is of interest."
   ]
  },
  {
   "cell_type": "code",
   "execution_count": 1,
   "metadata": {},
   "outputs": [
    {
     "name": "stdout",
     "output_type": "stream",
     "text": [
      "deque(['name', 'age', 'DOB'])\n"
     ]
    }
   ],
   "source": [
    "# Python code to demonstrate deque \n",
    "      \n",
    "    \n",
    "from collections import deque \n",
    "      \n",
    "# Declaring deque \n",
    "queue = deque(['name','age','DOB'])  \n",
    "      \n",
    "print(queue)"
   ]
  },
  {
   "cell_type": "code",
   "execution_count": 2,
   "metadata": {},
   "outputs": [
    {
     "name": "stdout",
     "output_type": "stream",
     "text": [
      "<class 'collections.deque'>\n"
     ]
    }
   ],
   "source": [
    "print(type(queue))"
   ]
  },
  {
   "cell_type": "code",
   "execution_count": 3,
   "metadata": {},
   "outputs": [
    {
     "name": "stdout",
     "output_type": "stream",
     "text": [
      "The deque after appending at right is : \n",
      "deque([1, 2, 3, 4])\n",
      "The deque after appending at left is : \n",
      "deque([6, 1, 2, 3, 4])\n",
      "The deque after deleting from right is : \n",
      "deque([6, 1, 2, 3])\n",
      "The deque after deleting from left is : \n",
      "deque([1, 2, 3])\n"
     ]
    }
   ],
   "source": [
    "# Python code to demonstrate working of\n",
    "# append(), appendleft(), pop(), and popleft()\n",
    "\n",
    "# importing \"collections\" for deque operations\n",
    "import collections\n",
    "\n",
    "# initializing deque\n",
    "de = collections.deque([1,2,3])\n",
    "\n",
    "# using append() to insert element at right end\n",
    "# inserts 4 at the end of deque\n",
    "de.append(4)\n",
    "\n",
    "# printing modified deque\n",
    "print (\"The deque after appending at right is : \")\n",
    "print (de)\n",
    "\n",
    "# using appendleft() to insert element at left end\n",
    "# inserts 6 at the beginning of deque\n",
    "de.appendleft(6)\n",
    "\n",
    "# printing modified deque\n",
    "print (\"The deque after appending at left is : \")\n",
    "print (de)\n",
    "\n",
    "# using pop() to delete element from right end\n",
    "# deletes 4 from the right end of deque\n",
    "de.pop()\n",
    "\n",
    "# printing modified deque\n",
    "print (\"The deque after deleting from right is : \")\n",
    "print (de)\n",
    "\n",
    "# using popleft() to delete element from left end\n",
    "# deletes 6 from the left end of deque\n",
    "de.popleft()\n",
    "\n",
    "# printing modified deque\n",
    "print (\"The deque after deleting from left is : \")\n",
    "print (de)\n"
   ]
  },
  {
   "cell_type": "code",
   "execution_count": null,
   "metadata": {},
   "outputs": [],
   "source": []
  }
 ],
 "metadata": {
  "kernelspec": {
   "display_name": "Python 3.10.5 ('.env': venv)",
   "language": "python",
   "name": "python3"
  },
  "language_info": {
   "codemirror_mode": {
    "name": "ipython",
    "version": 3
   },
   "file_extension": ".py",
   "mimetype": "text/x-python",
   "name": "python",
   "nbconvert_exporter": "python",
   "pygments_lexer": "ipython3",
   "version": "3.10.5"
  },
  "orig_nbformat": 4,
  "vscode": {
   "interpreter": {
    "hash": "2fc28e47f1264659d3d270d3bdfa2a64856bc88c496a0cc17cf57d50f946cac1"
   }
  }
 },
 "nbformat": 4,
 "nbformat_minor": 2
}
