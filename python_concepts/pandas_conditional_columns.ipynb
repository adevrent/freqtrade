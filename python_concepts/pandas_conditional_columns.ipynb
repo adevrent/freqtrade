{
 "cells": [
  {
   "cell_type": "code",
   "execution_count": 6,
   "metadata": {},
   "outputs": [
    {
     "name": "stdout",
     "output_type": "stream",
     "text": [
      "   Col1  Col2  Col3\n",
      "0    10    13    17\n",
      "1    20    23    27\n",
      "2    15    18    22\n",
      "3    30    33    37\n",
      "4    45    48    52\n",
      "5    50    51    53\n",
      "6    55    54    54\n",
      "7    60    57    55\n",
      "8    65    60    56\n",
      "9    70    63    57\n"
     ]
    }
   ],
   "source": [
    "import pandas as pd\n",
    "import numpy as np\n",
    "\n",
    "df = pd.DataFrame({\"Col1\": [10, 20, 15, 30, 45, 50, 55, 60, 65, 70],\n",
    "                   \"Col2\": [13, 23, 18, 33, 48, 51, 54, 57, 60, 63],\n",
    "                   \"Col3\": [17, 27, 22, 37, 52, 53, 54, 55, 56, 57]})\n",
    "print(df)"
   ]
  },
  {
   "cell_type": "code",
   "execution_count": 7,
   "metadata": {},
   "outputs": [
    {
     "name": "stdout",
     "output_type": "stream",
     "text": [
      "   Col1  Col2  Col3  Col4\n",
      "0    10    13    17  10.0\n",
      "1    20    23    27  20.0\n",
      "2    15    18    22  15.0\n",
      "3    30    33    37  30.0\n",
      "4    45    48    52  45.0\n",
      "5    50    51    53  50.0\n",
      "6    55    54    54   NaN\n",
      "7    60    57    55   NaN\n",
      "8    65    60    56   NaN\n",
      "9    70    63    57   NaN\n"
     ]
    }
   ],
   "source": [
    "df[\"Col4\"] = df[\"Col1\"][(df[\"Col2\"] < df[\"Col3\"]) & (df[\"Col1\"] > 25)]\n",
    "print(df)"
   ]
  },
  {
   "cell_type": "code",
   "execution_count": null,
   "metadata": {},
   "outputs": [],
   "source": []
  }
 ],
 "metadata": {
  "kernelspec": {
   "display_name": "Python 3.10.5 64-bit ('3.10.5': pyenv)",
   "language": "python",
   "name": "python3"
  },
  "language_info": {
   "codemirror_mode": {
    "name": "ipython",
    "version": 3
   },
   "file_extension": ".py",
   "mimetype": "text/x-python",
   "name": "python",
   "nbconvert_exporter": "python",
   "pygments_lexer": "ipython3",
   "version": "3.10.5"
  },
  "orig_nbformat": 4,
  "vscode": {
   "interpreter": {
    "hash": "63dad421a79b07ba21fceab07671fcec5ca6829179a621673b010b0b1dc8bd66"
   }
  }
 },
 "nbformat": 4,
 "nbformat_minor": 2
}
