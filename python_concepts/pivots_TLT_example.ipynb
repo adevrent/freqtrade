{
 "cells": [
  {
   "cell_type": "code",
   "execution_count": 34,
   "metadata": {},
   "outputs": [],
   "source": [
    "import pandas as pd\n",
    "import numpy as np\n",
    "from scipy.signal import argrelextrema\n",
    "import matplotlib.pyplot as plt"
   ]
  },
  {
   "cell_type": "code",
   "execution_count": 35,
   "metadata": {},
   "outputs": [
    {
     "data": {
      "text/html": [
       "<div>\n",
       "<style scoped>\n",
       "    .dataframe tbody tr th:only-of-type {\n",
       "        vertical-align: middle;\n",
       "    }\n",
       "\n",
       "    .dataframe tbody tr th {\n",
       "        vertical-align: top;\n",
       "    }\n",
       "\n",
       "    .dataframe thead th {\n",
       "        text-align: right;\n",
       "    }\n",
       "</style>\n",
       "<table border=\"1\" class=\"dataframe\">\n",
       "  <thead>\n",
       "    <tr style=\"text-align: right;\">\n",
       "      <th></th>\n",
       "      <th>Open</th>\n",
       "      <th>High</th>\n",
       "      <th>Low</th>\n",
       "      <th>Close</th>\n",
       "      <th>Adj Close</th>\n",
       "      <th>Volume</th>\n",
       "    </tr>\n",
       "    <tr>\n",
       "      <th>Date</th>\n",
       "      <th></th>\n",
       "      <th></th>\n",
       "      <th></th>\n",
       "      <th></th>\n",
       "      <th></th>\n",
       "      <th></th>\n",
       "    </tr>\n",
       "  </thead>\n",
       "  <tbody>\n",
       "    <tr>\n",
       "      <th>2002-07-30</th>\n",
       "      <td>81.750000</td>\n",
       "      <td>81.900002</td>\n",
       "      <td>81.519997</td>\n",
       "      <td>81.519997</td>\n",
       "      <td>41.799530</td>\n",
       "      <td>6100</td>\n",
       "    </tr>\n",
       "    <tr>\n",
       "      <th>2002-07-31</th>\n",
       "      <td>81.949997</td>\n",
       "      <td>82.800003</td>\n",
       "      <td>81.900002</td>\n",
       "      <td>82.529999</td>\n",
       "      <td>42.317417</td>\n",
       "      <td>29400</td>\n",
       "    </tr>\n",
       "    <tr>\n",
       "      <th>2002-08-01</th>\n",
       "      <td>82.540001</td>\n",
       "      <td>83.019997</td>\n",
       "      <td>82.540001</td>\n",
       "      <td>83.000000</td>\n",
       "      <td>42.558395</td>\n",
       "      <td>25000</td>\n",
       "    </tr>\n",
       "    <tr>\n",
       "      <th>2002-08-02</th>\n",
       "      <td>83.160004</td>\n",
       "      <td>84.099998</td>\n",
       "      <td>82.879997</td>\n",
       "      <td>83.849998</td>\n",
       "      <td>42.994259</td>\n",
       "      <td>52800</td>\n",
       "    </tr>\n",
       "    <tr>\n",
       "      <th>2002-08-05</th>\n",
       "      <td>84.040001</td>\n",
       "      <td>84.440002</td>\n",
       "      <td>83.849998</td>\n",
       "      <td>84.220001</td>\n",
       "      <td>43.183964</td>\n",
       "      <td>61100</td>\n",
       "    </tr>\n",
       "    <tr>\n",
       "      <th>...</th>\n",
       "      <td>...</td>\n",
       "      <td>...</td>\n",
       "      <td>...</td>\n",
       "      <td>...</td>\n",
       "      <td>...</td>\n",
       "      <td>...</td>\n",
       "    </tr>\n",
       "    <tr>\n",
       "      <th>2022-07-08</th>\n",
       "      <td>113.500000</td>\n",
       "      <td>113.500000</td>\n",
       "      <td>112.050003</td>\n",
       "      <td>112.500000</td>\n",
       "      <td>112.500000</td>\n",
       "      <td>15318000</td>\n",
       "    </tr>\n",
       "    <tr>\n",
       "      <th>2022-07-11</th>\n",
       "      <td>113.790001</td>\n",
       "      <td>114.790001</td>\n",
       "      <td>113.699997</td>\n",
       "      <td>114.440002</td>\n",
       "      <td>114.440002</td>\n",
       "      <td>13639900</td>\n",
       "    </tr>\n",
       "    <tr>\n",
       "      <th>2022-07-12</th>\n",
       "      <td>115.510002</td>\n",
       "      <td>116.230003</td>\n",
       "      <td>114.970001</td>\n",
       "      <td>115.120003</td>\n",
       "      <td>115.120003</td>\n",
       "      <td>18547300</td>\n",
       "    </tr>\n",
       "    <tr>\n",
       "      <th>2022-07-13</th>\n",
       "      <td>113.769997</td>\n",
       "      <td>116.650002</td>\n",
       "      <td>113.449997</td>\n",
       "      <td>116.440002</td>\n",
       "      <td>116.440002</td>\n",
       "      <td>20594800</td>\n",
       "    </tr>\n",
       "    <tr>\n",
       "      <th>2022-07-14</th>\n",
       "      <td>115.080002</td>\n",
       "      <td>116.160004</td>\n",
       "      <td>114.470001</td>\n",
       "      <td>115.489998</td>\n",
       "      <td>115.489998</td>\n",
       "      <td>15663000</td>\n",
       "    </tr>\n",
       "  </tbody>\n",
       "</table>\n",
       "<p>5025 rows × 6 columns</p>\n",
       "</div>"
      ],
      "text/plain": [
       "                  Open        High         Low       Close   Adj Close  \\\n",
       "Date                                                                     \n",
       "2002-07-30   81.750000   81.900002   81.519997   81.519997   41.799530   \n",
       "2002-07-31   81.949997   82.800003   81.900002   82.529999   42.317417   \n",
       "2002-08-01   82.540001   83.019997   82.540001   83.000000   42.558395   \n",
       "2002-08-02   83.160004   84.099998   82.879997   83.849998   42.994259   \n",
       "2002-08-05   84.040001   84.440002   83.849998   84.220001   43.183964   \n",
       "...                ...         ...         ...         ...         ...   \n",
       "2022-07-08  113.500000  113.500000  112.050003  112.500000  112.500000   \n",
       "2022-07-11  113.790001  114.790001  113.699997  114.440002  114.440002   \n",
       "2022-07-12  115.510002  116.230003  114.970001  115.120003  115.120003   \n",
       "2022-07-13  113.769997  116.650002  113.449997  116.440002  116.440002   \n",
       "2022-07-14  115.080002  116.160004  114.470001  115.489998  115.489998   \n",
       "\n",
       "              Volume  \n",
       "Date                  \n",
       "2002-07-30      6100  \n",
       "2002-07-31     29400  \n",
       "2002-08-01     25000  \n",
       "2002-08-02     52800  \n",
       "2002-08-05     61100  \n",
       "...              ...  \n",
       "2022-07-08  15318000  \n",
       "2022-07-11  13639900  \n",
       "2022-07-12  18547300  \n",
       "2022-07-13  20594800  \n",
       "2022-07-14  15663000  \n",
       "\n",
       "[5025 rows x 6 columns]"
      ]
     },
     "execution_count": 35,
     "metadata": {},
     "output_type": "execute_result"
    }
   ],
   "source": [
    "df = pd.read_csv(\"../user_data/third_party_data/TLT.csv\")\n",
    "df = df.set_index(\"Date\")\n",
    "df"
   ]
  },
  {
   "cell_type": "code",
   "execution_count": 36,
   "metadata": {},
   "outputs": [
    {
     "data": {
      "text/plain": [
       "Index(['2002-07-30', '2002-07-31', '2002-08-01', '2002-08-02', '2002-08-05',\n",
       "       '2002-08-06', '2002-08-07', '2002-08-08', '2002-08-09', '2002-08-12',\n",
       "       ...\n",
       "       '2022-06-30', '2022-07-01', '2022-07-05', '2022-07-06', '2022-07-07',\n",
       "       '2022-07-08', '2022-07-11', '2022-07-12', '2022-07-13', '2022-07-14'],\n",
       "      dtype='object', name='Date', length=5025)"
      ]
     },
     "execution_count": 36,
     "metadata": {},
     "output_type": "execute_result"
    }
   ],
   "source": [
    "df[\"Close\"].index"
   ]
  },
  {
   "cell_type": "code",
   "execution_count": 37,
   "metadata": {},
   "outputs": [],
   "source": [
    "max_idx = argrelextrema(df['Close'].to_numpy(), np.greater, order=100)[0]\n",
    "min_idx = argrelextrema(df['Close'].to_numpy(), np.less, order=100)[0]"
   ]
  },
  {
   "cell_type": "code",
   "execution_count": 38,
   "metadata": {},
   "outputs": [
    {
     "data": {
      "text/plain": [
       "array([  39,  220,  410,  736, 1096, 1420, 1611, 1807, 2037, 2366, 2516,\n",
       "       3148, 3510, 3804, 4012, 4300, 4535, 4872])"
      ]
     },
     "execution_count": 38,
     "metadata": {},
     "output_type": "execute_result"
    }
   ],
   "source": [
    "max_idx  # Index numbers of maxima points."
   ]
  },
  {
   "cell_type": "code",
   "execution_count": 39,
   "metadata": {},
   "outputs": [
    {
     "data": {
      "text/plain": [
       "array([ 262,  451,  954, 1225, 1479, 1728, 1933, 2150, 2427, 2874, 3250,\n",
       "       3680, 4096, 4691, 5004])"
      ]
     },
     "execution_count": 39,
     "metadata": {},
     "output_type": "execute_result"
    }
   ],
   "source": [
    "min_idx  # Index numbers of minima points."
   ]
  },
  {
   "cell_type": "code",
   "execution_count": 40,
   "metadata": {},
   "outputs": [
    {
     "data": {
      "text/plain": [
       "Date\n",
       "2002-09-24     90.680000\n",
       "2003-06-13     97.180000\n",
       "2004-03-16     91.180000\n",
       "2005-06-30     96.699997\n",
       "2006-12-04     91.580002\n",
       "2008-03-20     97.180000\n",
       "2008-12-19    122.260002\n",
       "2009-10-01     99.699997\n",
       "2010-08-31    108.559998\n",
       "2011-12-19    123.870003\n",
       "2012-07-25    132.160004\n",
       "2015-01-30    138.279999\n",
       "2016-07-08    143.600006\n",
       "2017-09-07    129.279999\n",
       "2018-07-06    122.750000\n",
       "2019-08-28    147.800003\n",
       "2020-08-04    171.570007\n",
       "2021-12-03    154.350006\n",
       "Name: Close, dtype: float64"
      ]
     },
     "execution_count": 40,
     "metadata": {},
     "output_type": "execute_result"
    }
   ],
   "source": [
    "df.iloc[max_idx]['Close']  # Values of maxima points."
   ]
  },
  {
   "cell_type": "code",
   "execution_count": 41,
   "metadata": {},
   "outputs": [
    {
     "data": {
      "text/plain": [
       "Date\n",
       "2003-08-13     81.250000\n",
       "2004-05-13     80.650002\n",
       "2006-05-12     82.650002\n",
       "2007-06-12     82.349998\n",
       "2008-06-13     88.870003\n",
       "2009-06-10     88.190002\n",
       "2010-04-05     87.470001\n",
       "2011-02-10     88.190002\n",
       "2012-03-19    110.099998\n",
       "2013-12-27    101.809998\n",
       "2015-06-26    115.230003\n",
       "2017-03-13    116.510002\n",
       "2018-11-02    112.000000\n",
       "2021-03-18    133.919998\n",
       "2022-06-14    108.809998\n",
       "Name: Close, dtype: float64"
      ]
     },
     "execution_count": 41,
     "metadata": {},
     "output_type": "execute_result"
    }
   ],
   "source": [
    "df.iloc[min_idx]['Close']  # Values of minima points."
   ]
  },
  {
   "cell_type": "code",
   "execution_count": 42,
   "metadata": {},
   "outputs": [
    {
     "data": {
      "image/png": "[encoded data removed]",
      "text/plain": [
       "<Figure size 1152x576 with 1 Axes>"
      ]
     },
     "metadata": {
      "needs_background": "light"
     },
     "output_type": "display_data"
    }
   ],
   "source": [
    "plt.figure(figsize=(16, 8))\n",
    "plt.plot(df['Close'], zorder=0)\n",
    "plt.xticks(rotation = 45)\n",
    "plt.scatter(df.iloc[max_idx].index, df.iloc[max_idx]['Close'],\n",
    "  label='Maxima', s=100, color=\"r\", marker='^')\n",
    "plt.scatter(df.iloc[min_idx].index, df.iloc[min_idx]['Close'],\n",
    "  label='Minima', s=100, color=\"g\", marker='v')\n",
    "\n",
    "plt.xlabel(\"Index\")\n",
    "plt.ylabel(\"Price ($)\")\n",
    "plt.legend()\n",
    "plt.show()\n",
    "\n",
    "# Plot the maxima and minima points."
   ]
  },
  {
   "cell_type": "code",
   "execution_count": 44,
   "metadata": {},
   "outputs": [
    {
     "data": {
      "text/html": [
       "<div>\n",
       "<style scoped>\n",
       "    .dataframe tbody tr th:only-of-type {\n",
       "        vertical-align: middle;\n",
       "    }\n",
       "\n",
       "    .dataframe tbody tr th {\n",
       "        vertical-align: top;\n",
       "    }\n",
       "\n",
       "    .dataframe thead th {\n",
       "        text-align: right;\n",
       "    }\n",
       "</style>\n",
       "<table border=\"1\" class=\"dataframe\">\n",
       "  <thead>\n",
       "    <tr style=\"text-align: right;\">\n",
       "      <th></th>\n",
       "      <th>Open</th>\n",
       "      <th>High</th>\n",
       "      <th>Low</th>\n",
       "      <th>Close</th>\n",
       "      <th>Adj Close</th>\n",
       "      <th>Volume</th>\n",
       "      <th>maxima</th>\n",
       "    </tr>\n",
       "    <tr>\n",
       "      <th>Date</th>\n",
       "      <th></th>\n",
       "      <th></th>\n",
       "      <th></th>\n",
       "      <th></th>\n",
       "      <th></th>\n",
       "      <th></th>\n",
       "      <th></th>\n",
       "    </tr>\n",
       "  </thead>\n",
       "  <tbody>\n",
       "    <tr>\n",
       "      <th>2002-07-30</th>\n",
       "      <td>81.750000</td>\n",
       "      <td>81.900002</td>\n",
       "      <td>81.519997</td>\n",
       "      <td>81.519997</td>\n",
       "      <td>41.799530</td>\n",
       "      <td>6100</td>\n",
       "      <td>154.350006</td>\n",
       "    </tr>\n",
       "    <tr>\n",
       "      <th>2002-07-31</th>\n",
       "      <td>81.949997</td>\n",
       "      <td>82.800003</td>\n",
       "      <td>81.900002</td>\n",
       "      <td>82.529999</td>\n",
       "      <td>42.317417</td>\n",
       "      <td>29400</td>\n",
       "      <td>154.350006</td>\n",
       "    </tr>\n",
       "    <tr>\n",
       "      <th>2002-08-01</th>\n",
       "      <td>82.540001</td>\n",
       "      <td>83.019997</td>\n",
       "      <td>82.540001</td>\n",
       "      <td>83.000000</td>\n",
       "      <td>42.558395</td>\n",
       "      <td>25000</td>\n",
       "      <td>154.350006</td>\n",
       "    </tr>\n",
       "    <tr>\n",
       "      <th>2002-08-02</th>\n",
       "      <td>83.160004</td>\n",
       "      <td>84.099998</td>\n",
       "      <td>82.879997</td>\n",
       "      <td>83.849998</td>\n",
       "      <td>42.994259</td>\n",
       "      <td>52800</td>\n",
       "      <td>154.350006</td>\n",
       "    </tr>\n",
       "    <tr>\n",
       "      <th>2002-08-05</th>\n",
       "      <td>84.040001</td>\n",
       "      <td>84.440002</td>\n",
       "      <td>83.849998</td>\n",
       "      <td>84.220001</td>\n",
       "      <td>43.183964</td>\n",
       "      <td>61100</td>\n",
       "      <td>154.350006</td>\n",
       "    </tr>\n",
       "    <tr>\n",
       "      <th>...</th>\n",
       "      <td>...</td>\n",
       "      <td>...</td>\n",
       "      <td>...</td>\n",
       "      <td>...</td>\n",
       "      <td>...</td>\n",
       "      <td>...</td>\n",
       "      <td>...</td>\n",
       "    </tr>\n",
       "    <tr>\n",
       "      <th>2022-07-08</th>\n",
       "      <td>113.500000</td>\n",
       "      <td>113.500000</td>\n",
       "      <td>112.050003</td>\n",
       "      <td>112.500000</td>\n",
       "      <td>112.500000</td>\n",
       "      <td>15318000</td>\n",
       "      <td>154.350006</td>\n",
       "    </tr>\n",
       "    <tr>\n",
       "      <th>2022-07-11</th>\n",
       "      <td>113.790001</td>\n",
       "      <td>114.790001</td>\n",
       "      <td>113.699997</td>\n",
       "      <td>114.440002</td>\n",
       "      <td>114.440002</td>\n",
       "      <td>13639900</td>\n",
       "      <td>154.350006</td>\n",
       "    </tr>\n",
       "    <tr>\n",
       "      <th>2022-07-12</th>\n",
       "      <td>115.510002</td>\n",
       "      <td>116.230003</td>\n",
       "      <td>114.970001</td>\n",
       "      <td>115.120003</td>\n",
       "      <td>115.120003</td>\n",
       "      <td>18547300</td>\n",
       "      <td>154.350006</td>\n",
       "    </tr>\n",
       "    <tr>\n",
       "      <th>2022-07-13</th>\n",
       "      <td>113.769997</td>\n",
       "      <td>116.650002</td>\n",
       "      <td>113.449997</td>\n",
       "      <td>116.440002</td>\n",
       "      <td>116.440002</td>\n",
       "      <td>20594800</td>\n",
       "      <td>154.350006</td>\n",
       "    </tr>\n",
       "    <tr>\n",
       "      <th>2022-07-14</th>\n",
       "      <td>115.080002</td>\n",
       "      <td>116.160004</td>\n",
       "      <td>114.470001</td>\n",
       "      <td>115.489998</td>\n",
       "      <td>115.489998</td>\n",
       "      <td>15663000</td>\n",
       "      <td>154.350006</td>\n",
       "    </tr>\n",
       "  </tbody>\n",
       "</table>\n",
       "<p>5025 rows × 7 columns</p>\n",
       "</div>"
      ],
      "text/plain": [
       "                  Open        High         Low       Close   Adj Close  \\\n",
       "Date                                                                     \n",
       "2002-07-30   81.750000   81.900002   81.519997   81.519997   41.799530   \n",
       "2002-07-31   81.949997   82.800003   81.900002   82.529999   42.317417   \n",
       "2002-08-01   82.540001   83.019997   82.540001   83.000000   42.558395   \n",
       "2002-08-02   83.160004   84.099998   82.879997   83.849998   42.994259   \n",
       "2002-08-05   84.040001   84.440002   83.849998   84.220001   43.183964   \n",
       "...                ...         ...         ...         ...         ...   \n",
       "2022-07-08  113.500000  113.500000  112.050003  112.500000  112.500000   \n",
       "2022-07-11  113.790001  114.790001  113.699997  114.440002  114.440002   \n",
       "2022-07-12  115.510002  116.230003  114.970001  115.120003  115.120003   \n",
       "2022-07-13  113.769997  116.650002  113.449997  116.440002  116.440002   \n",
       "2022-07-14  115.080002  116.160004  114.470001  115.489998  115.489998   \n",
       "\n",
       "              Volume      maxima  \n",
       "Date                              \n",
       "2002-07-30      6100  154.350006  \n",
       "2002-07-31     29400  154.350006  \n",
       "2002-08-01     25000  154.350006  \n",
       "2002-08-02     52800  154.350006  \n",
       "2002-08-05     61100  154.350006  \n",
       "...              ...         ...  \n",
       "2022-07-08  15318000  154.350006  \n",
       "2022-07-11  13639900  154.350006  \n",
       "2022-07-12  18547300  154.350006  \n",
       "2022-07-13  20594800  154.350006  \n",
       "2022-07-14  15663000  154.350006  \n",
       "\n",
       "[5025 rows x 7 columns]"
      ]
     },
     "execution_count": 44,
     "metadata": {},
     "output_type": "execute_result"
    }
   ],
   "source": [
    "df[\"maxima\"] = df.iloc[max_idx[-1]]['Close']\n",
    "df"
   ]
  }
 ],
 "metadata": {
  "kernelspec": {
   "display_name": "Python 3.10.5 ('.env': venv)",
   "language": "python",
   "name": "python3"
  },
  "language_info": {
   "codemirror_mode": {
    "name": "ipython",
    "version": 3
   },
   "file_extension": ".py",
   "mimetype": "text/x-python",
   "name": "python",
   "nbconvert_exporter": "python",
   "pygments_lexer": "ipython3",
   "version": "3.10.5"
  },
  "orig_nbformat": 4,
  "vscode": {
   "interpreter": {
    "hash": "2fc28e47f1264659d3d270d3bdfa2a64856bc88c496a0cc17cf57d50f946cac1"
   }
  }
 },
 "nbformat": 4,
 "nbformat_minor": 2
}
